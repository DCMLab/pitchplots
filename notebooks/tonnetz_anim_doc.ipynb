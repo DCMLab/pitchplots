{
 "cells": [
  {
   "cell_type": "markdown",
   "metadata": {},
   "source": [
    "# tonnetz animation documentation\n",
    "\n",
    "    Animation a 2D grid of hexagons, each hexagons being a note\n",
    "    \n",
    "    Keyword arguments:\n",
    "    piece -- the absolute path to the .csv file containing the data or a DataFrame\n",
    "    pitch_type -- the type of data that you want to be read (default 'tpc'), 'pc' could be use for twelve parts chart tpc\n",
    "        form (tpc:[A, B#, Gbbb, ...], pc (pitch class):[0, 3, 7, ...])\n",
    "    measures -- give a set of measures example [5, 18], will display the notes of the measures 5 to 18 included\n",
    "    sampling_frequency -- the frequency of lecture of the piece, also correspond to the fps of the video\n",
    "    speed_ratio -- set the speed at which the video is read, for example : 2 accelerate the speed of the video by 2\n",
    "    pitch_class_display -- if True display the pitch class and no the tpc values and so the grid repeat itself.\n",
    "    adaptive_scale -- if True, the scale evolve with the video, if not it stays the same\n",
    "    duplicate -- if False there wont be any duplicate of note in the chart\n",
    "    duration -- if True the value taking in account is the total duration of the note, if False it's the number of\n",
    "        appearance\n",
    "    log -- if True the scale is logarithmic if False it's linear\n",
    "    colorbar -- if true display the colorbar in the background\n",
    "    vocabulary -- the conversion dictionary from pitch class to tpc(F#, A, ...) format,\n",
    "    radius -- define the number of layers of the hexagonal grid (default 3)\n",
    "    hex_size -- indicate the size of the hexagons (default 1)\n",
    "    fontsize -- indicate the size of the typo for the labels (default 1)\n",
    "    figsize -- indicate the size of the produced figure in inches (default [14, 9])\n",
    "    cmap -- indicate the type of color to use for the heatmap, see matplotlib color documentation (default 'Blues')\n",
    "    nan_color -- give the possibility to set a color for the note that do not appear in the piece\n",
    "    center -- you can set the note that will be in the center of the grid,\n",
    "        by default it put the most recurent note in the center\n",
    "    edgecolor -- the color of the edges of the hexagons\n",
    "    filename -- the name of the file you want to save, the animation is in the format of filename\n",
    "    **kwargs -- these arguments are redirected to matplotlib.patches.RegularPolygon, see informations at\n",
    "                https://matplotlib.org/api/_as_gen/matplotlib.patches.RegularPolygon.html"
   ]
  },
  {
   "cell_type": "code",
   "execution_count": 1,
   "metadata": {},
   "outputs": [],
   "source": [
    "import pitchplots.dynamic as ppd"
   ]
  },
  {
   "cell_type": "code",
   "execution_count": 2,
   "metadata": {},
   "outputs": [],
   "source": [
    "#piece = '../data/data_example.csv'\n",
    "import pitchplots.parser as ppp\n",
    "piece = ppp.xml_to_csv()"
   ]
  },
  {
   "cell_type": "code",
   "execution_count": null,
   "metadata": {},
   "outputs": [],
   "source": []
  }
 ],
 "metadata": {
  "kernelspec": {
   "display_name": "Python 3",
   "language": "python",
   "name": "python3"
  },
  "language_info": {
   "codemirror_mode": {
    "name": "ipython",
    "version": 3
   },
   "file_extension": ".py",
   "mimetype": "text/x-python",
   "name": "python",
   "nbconvert_exporter": "python",
   "pygments_lexer": "ipython3",
   "version": "3.7.1"
  }
 },
 "nbformat": 4,
 "nbformat_minor": 2
}
