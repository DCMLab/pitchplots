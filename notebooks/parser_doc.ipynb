{
 "cells": [
  {
   "cell_type": "markdown",
   "metadata": {},
   "source": [
    "# parser documentation\n",
    "\n",
    "    return the Dataframe, and possbily register it in csv, of the musicxml file\n",
    "    \n",
    "    Keyword arguments:\n",
    "    filepath -- absolute path to the xml file by default goes to the example file\n",
    "    filename -- give the name of the .csv file, by default give the same name as the .mxl file\n",
    "    save_cvs -- if True save the csv file in the csv directory or at the given path\n",
    "    duration -- define of the duration will be in seconds or relative to a whole note\n",
    "                (possible values: 'seconds' or 'whole_note'(default value))"
   ]
  },
  {
   "cell_type": "code",
   "execution_count": 1,
   "metadata": {},
   "outputs": [],
   "source": [
    "import pitchplots.parser as ppp"
   ]
  },
  {
   "cell_type": "code",
   "execution_count": null,
   "metadata": {},
   "outputs": [],
   "source": [
    "# piece is a pandas DataFrame of the list of note of the piece\n",
    "piece = ppp.xml_to_csv()"
   ]
  }
 ],
 "metadata": {
  "kernelspec": {
   "display_name": "Python 3",
   "language": "python",
   "name": "python3"
  },
  "language_info": {
   "codemirror_mode": {
    "name": "ipython",
    "version": 3
   },
   "file_extension": ".py",
   "mimetype": "text/x-python",
   "name": "python",
   "nbconvert_exporter": "python",
   "pygments_lexer": "ipython3",
   "version": "3.7.1"
  }
 },
 "nbformat": 4,
 "nbformat_minor": 2
}
