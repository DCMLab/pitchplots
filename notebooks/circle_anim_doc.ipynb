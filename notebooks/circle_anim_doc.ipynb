{
 "cells": [
  {
   "cell_type": "markdown",
   "metadata": {},
   "source": [
    "# circle animation documentation\n",
    "\n",
    "    return the figure of a piechart with importance of the notes that are represented by the colour as a heatmap\n",
    "\n",
    "    Keyword arguments:\n",
    "    piece -- the absolute path to the .csv file containing the data or a DataFrame\n",
    "    pitch_type -- the type of data that you want to be read (default 'tpc'), 'pc' could be use for twelve parts chart tpc\n",
    "        form (tpc:[A, B#, Gbbb, ...], pc (pitch class):[0, 3, 7, ...])\n",
    "    measures -- give a set of measures example [5, 18], will display the notes of the measures 5 to 18 included\n",
    "    log -- if True the colors are distributed on a log scale, by default it's a lineare scale (default False)\n",
    "    vocabulary -- the conversion dictionary from pitch class to tpc(F#, A, ...) format,\n",
    "    pitch_class_display -- if True display the pitch class and no the tpc values and so the grid repeat itself.\n",
    "    colorbar -- if true display the colorbar aside of the pie chart\n",
    "    adaptive_scale -- if True, the scale evolve with the video, if not it stays the same\n",
    "    duration -- tell him if he has to class the notes by their total duration or their number of appearance\n",
    "    sampling_frequency -- the frequency of lecture of the piece, also correspond to the fps of the video\n",
    "    speed_ratio -- set the speed at which the video is read, for example : 2 accelerate the speed of the video by 2\n",
    "    fifths -- if True class the notes by fifths order, if not class by the chromatic order\n",
    "    figsize -- tell the size of the figure in inches [x, y]\n",
    "    top -- tell which note should be on the top of the piechart, different for tpc or pc\n",
    "    rotation -- allows to rotate the piechart, int angle in degrees\n",
    "    clockwise -- if True the piechart is displayed clockwise if not counter-clockwise\n",
    "    cmap -- indicate the type of color to use for the heatmap, see matplotlib color documentation (default 'Blues')\n",
    "    nan_color -- give the possibility to set a color for the note that do not appear in the piece (default 'nan')\n",
    "    filename -- the name of the file you want to save, the animation is in the format of filename\n",
    "    **kwargs -- these arguments are redirected to the matplotlib.pyplot.pie function, see informations at\n",
    "                https://matplotlib.org/api/_as_gen/matplotlib.pyplot.pie.html"
   ]
  },
  {
   "cell_type": "code",
   "execution_count": 1,
   "metadata": {},
   "outputs": [],
   "source": [
    "import pitchplots.dynamic as ppd"
   ]
  },
  {
   "cell_type": "code",
   "execution_count": 2,
   "metadata": {},
   "outputs": [],
   "source": [
    "def circle_animation(\n",
    "    piece,\n",
    "    pitch_type='tpc',\n",
    "    measures=None,\n",
    "    log=False,\n",
    "    vocabulary={0:'C', 1:'Db', 2:'D', 3:'Eb', 4:'E', 5:'F', 6:'Gb', 7:'G', 8:'Ab', 9:'A', 10:'Bb', 11:'B'},\n",
    "    pitch_class_display=False,\n",
    "    colorbar=True,\n",
    "    adaptive_scale=True,\n",
    "    duration=False,\n",
    "    sampling_frequency=25,\n",
    "    speed_ratio=1,\n",
    "    fifths=True,\n",
    "    figsize=[14, 9],\n",
    "    top=None,\n",
    "    rotation=0,\n",
    "    clockwise=True,\n",
    "    cmap='Blues',\n",
    "    nan_color='white',\n",
    "    filename='animated_circle.mp4',\n",
    "    **kwargs):\n",
    "    pass"
   ]
  },
  {
   "cell_type": "code",
   "execution_count": null,
   "metadata": {},
   "outputs": [],
   "source": []
  }
 ],
 "metadata": {
  "kernelspec": {
   "display_name": "Python 3",
   "language": "python",
   "name": "python3"
  },
  "language_info": {
   "codemirror_mode": {
    "name": "ipython",
    "version": 3
   },
   "file_extension": ".py",
   "mimetype": "text/x-python",
   "name": "python",
   "nbconvert_exporter": "python",
   "pygments_lexer": "ipython3",
   "version": "3.7.1"
  }
 },
 "nbformat": 4,
 "nbformat_minor": 2
}
